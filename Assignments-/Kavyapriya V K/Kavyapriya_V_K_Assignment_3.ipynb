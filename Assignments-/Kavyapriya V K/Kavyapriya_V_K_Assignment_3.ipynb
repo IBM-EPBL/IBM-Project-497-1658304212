{
  "cells": [
    {
      "cell_type": "markdown",
      "metadata": {
        "id": "usVMpvb3iXJS"
      },
      "source": [
        "Importing all necesaary libraries"
      ]
    },
    {
      "cell_type": "code",
      "execution_count": null,
      "metadata": {
        "colab": {
          "background_save": true,
          "base_uri": "https://localhost:8080/"
        },
        "id": "IFJsCXTsfS2x",
        "outputId": "f6eddd00-9a27-462c-eee1-82449aa88dbc"
      },
      "outputs": [
        {
          "name": "stdout",
          "output_type": "stream",
          "text": [
            "Looking in indexes: https://pypi.org/simple, https://us-python.pkg.dev/colab-wheels/public/simple/\n",
            "Collecting split-folders\n",
            "  Downloading split_folders-0.5.1-py3-none-any.whl (8.4 kB)\n",
            "Installing collected packages: split-folders\n",
            "Successfully installed split-folders-0.5.1\n"
          ]
        }
      ],
      "source": [
        "!pip install split-folders\n",
        "import splitfolders"
      ]
    },
    {
      "cell_type": "code",
      "execution_count": null,
      "metadata": {
        "colab": {
          "background_save": true
        },
        "id": "TGuWWJMIfS5o"
      },
      "outputs": [],
      "source": [
        "import numpy as np\n",
        "import tensorflow as tf"
      ]
    },
    {
      "cell_type": "markdown",
      "metadata": {
        "id": "AGXD9Nm3iTwb"
      },
      "source": [
        "Load dataset"
      ]
    },
    {
      "cell_type": "code",
      "execution_count": null,
      "metadata": {
        "colab": {
          "background_save": true
        },
        "id": "ERXRPSsufS8J"
      },
      "outputs": [],
      "source": [
        "import zipfile"
      ]
    },
    {
      "cell_type": "code",
      "execution_count": null,
      "metadata": {
        "colab": {
          "base_uri": "https://localhost:8080/"
        },
        "id": "ywWLzG5-fS-6",
        "outputId": "61a82fae-3081-495b-b4de-a67fc72710b2"
      },
      "outputs": [
        {
          "name": "stdout",
          "output_type": "stream",
          "text": [
            "Drive already mounted at /content/drive; to attempt to forcibly remount, call drive.mount(\"/content/drive\", force_remount=True).\n",
            "Archive:  /content/drive/My Drive/Flowers-Dataset.zip\n",
            "replace flowers/daisy/100080576_f52e8ee070_n.jpg? [y]es, [n]o, [A]ll, [N]one, [r]ename: "
          ]
        }
      ],
      "source": [
        "from google.colab import drive\n",
        "drive.mount('/content/drive')\n",
        "!unzip /content/drive/My\\ Drive/Flowers-Dataset.zip "
      ]
    },
    {
      "cell_type": "markdown",
      "metadata": {
        "id": "uyIkFp0hiNCe"
      },
      "source": [
        "Split dataset into training data, validation data, testing data"
      ]
    },
    {
      "cell_type": "code",
      "execution_count": null,
      "metadata": {
        "colab": {
          "base_uri": "https://localhost:8080/"
        },
        "id": "zZ7k7gDHiDjb",
        "outputId": "8aceca1c-dd20-484b-b0a7-5a5a35f3e2e5"
      },
      "outputs": [
        {
          "name": "stderr",
          "output_type": "stream",
          "text": [
            "Copying files: 4317 files [00:01, 3694.23 files/s]\n"
          ]
        }
      ],
      "source": [
        "splitfolders.ratio(\"/content/flowers\", output=\"/content/flowers\", seed=1337, ratio=(.8, .1, .1), group_prefix=None)"
      ]
    },
    {
      "cell_type": "markdown",
      "metadata": {
        "id": "ytKUFxCbod2G"
      },
      "source": [
        "Image Augmentation"
      ]
    },
    {
      "cell_type": "code",
      "execution_count": null,
      "metadata": {
        "id": "LZLL3Ov5iDmA"
      },
      "outputs": [],
      "source": [
        "import keras"
      ]
    },
    {
      "cell_type": "code",
      "execution_count": null,
      "metadata": {
        "id": "ODPLnqljpCyj"
      },
      "outputs": [],
      "source": [
        "from tensorflow.keras.preprocessing.image import ImageDataGenerator"
      ]
    },
    {
      "cell_type": "code",
      "execution_count": null,
      "metadata": {
        "id": "m3PjDE2spC1K"
      },
      "outputs": [],
      "source": [
        "train_datagen=ImageDataGenerator(rescale=1./255,zoom_range=0.2,horizontal_flip=True,vertical_flip=False)"
      ]
    },
    {
      "cell_type": "code",
      "execution_count": null,
      "metadata": {
        "id": "wbjd82zhpC36"
      },
      "outputs": [],
      "source": [
        "test_datagen=ImageDataGenerator(rescale=1./255)"
      ]
    },
    {
      "cell_type": "code",
      "execution_count": null,
      "metadata": {
        "colab": {
          "base_uri": "https://localhost:8080/"
        },
        "id": "kk-aXerapC6f",
        "outputId": "14ec469e-53cb-403a-c503-b310f0ed29fd"
      },
      "outputs": [
        {
          "name": "stdout",
          "output_type": "stream",
          "text": [
            "Found 3452 images belonging to 5 classes.\n"
          ]
        }
      ],
      "source": [
        "gentrain=train_datagen.flow_from_directory(\"/content/flowers/train\",target_size=(64,64),class_mode=\"categorical\",batch_size=100)"
      ]
    },
    {
      "cell_type": "code",
      "execution_count": 58,
      "metadata": {
        "colab": {
          "base_uri": "https://localhost:8080/"
        },
        "id": "bFyilsNGpC97",
        "outputId": "4caa0621-81e4-483f-d901-4e4b2cab7fc5"
      },
      "outputs": [
        {
          "output_type": "stream",
          "name": "stdout",
          "text": [
            "Found 430 images belonging to 5 classes.\n"
          ]
        }
      ],
      "source": [
        "gentest=test_datagen.flow_from_directory(\"/content/flowers/val\",target_size=(64,64),class_mode=\"categorical\",batch_size=100)"
      ]
    },
    {
      "cell_type": "code",
      "source": [
        "genval=test_datagen.flow_from_directory(\"/content/flowers/test\",target_size=(64,64),class_mode=\"categorical\",batch_size=100)"
      ],
      "metadata": {
        "colab": {
          "base_uri": "https://localhost:8080/"
        },
        "id": "y9-atWVD5cP8",
        "outputId": "879a7bca-e9cb-4abf-e612-dcec09b65ee8"
      },
      "execution_count": 68,
      "outputs": [
        {
          "output_type": "stream",
          "name": "stdout",
          "text": [
            "Found 435 images belonging to 5 classes.\n"
          ]
        }
      ]
    },
    {
      "cell_type": "markdown",
      "metadata": {
        "id": "9Yjj4UYprmwy"
      },
      "source": [
        "Create model"
      ]
    },
    {
      "cell_type": "code",
      "execution_count": 59,
      "metadata": {
        "id": "Vbj6ZIRGiDrr"
      },
      "outputs": [],
      "source": [
        "from tensorflow.keras.models import Sequential\n",
        "from tensorflow.keras.layers import Convolution2D,MaxPooling2D,Flatten,Dense"
      ]
    },
    {
      "cell_type": "code",
      "execution_count": 61,
      "metadata": {
        "id": "Uk8pIELYiDvO"
      },
      "outputs": [],
      "source": [
        "model=Sequential()"
      ]
    },
    {
      "cell_type": "markdown",
      "metadata": {
        "id": "FUPTNct-sYgo"
      },
      "source": [
        "Add layers"
      ]
    },
    {
      "cell_type": "code",
      "execution_count": 62,
      "metadata": {
        "id": "GpInqJ5OsY6w"
      },
      "outputs": [],
      "source": [
        "model.add(Convolution2D(32,(3,3),activation=\"relu\",input_shape=(64,64,3)))\n",
        "model.add(MaxPooling2D(pool_size=(2,2)))\n",
        "model.add(Flatten())\n",
        "model.add(Dense(300,kernel_initializer=\"random_uniform\",activation=\"relu\"))\n",
        "model.add(Dense(5,kernel_initializer=\"random_uniform\",activation=\"softmax\"))"
      ]
    },
    {
      "cell_type": "markdown",
      "metadata": {
        "id": "N3eTf7rCvSEd"
      },
      "source": [
        "Compile model"
      ]
    },
    {
      "cell_type": "code",
      "execution_count": 63,
      "metadata": {
        "id": "-stYXIL7sY-G"
      },
      "outputs": [],
      "source": [
        "model.compile(loss=\"categorical_crossentropy\",optimizer=\"adam\",metrics=[\"accuracy\"])"
      ]
    },
    {
      "cell_type": "markdown",
      "metadata": {
        "id": "fNq46cSKwMzI"
      },
      "source": [
        "Fit the model"
      ]
    },
    {
      "cell_type": "code",
      "execution_count": 67,
      "metadata": {
        "colab": {
          "base_uri": "https://localhost:8080/"
        },
        "id": "eeuK1BI2wNlS",
        "outputId": "16103658-694e-4502-d83e-824142e37933"
      },
      "outputs": [
        {
          "output_type": "stream",
          "name": "stderr",
          "text": [
            "/usr/local/lib/python3.7/dist-packages/ipykernel_launcher.py:1: UserWarning: `Model.fit_generator` is deprecated and will be removed in a future version. Please use `Model.fit`, which supports generators.\n",
            "  \"\"\"Entry point for launching an IPython kernel.\n"
          ]
        },
        {
          "output_type": "stream",
          "name": "stdout",
          "text": [
            "Epoch 1/30\n",
            "15/15 [==============================] - ETA: 0s - loss: 1.0158 - accuracy: 0.6027"
          ]
        },
        {
          "output_type": "stream",
          "name": "stderr",
          "text": [
            "WARNING:tensorflow:Your input ran out of data; interrupting training. Make sure that your dataset or generator can generate at least `steps_per_epoch * epochs` batches (in this case, 10 batches). You may need to use the repeat() function when building your dataset.\n"
          ]
        },
        {
          "output_type": "stream",
          "name": "stdout",
          "text": [
            "\b\b\b\b\b\b\b\b\b\b\b\b\b\b\b\b\b\b\b\b\b\b\b\b\b\b\b\b\b\b\b\b\b\b\b\b\b\b\b\b\b\b\b\b\b\b\b\b\b\b\b\b\b\b\b\b\b\b\b\b\b\b\b\b\b\b\b\b\b\b\b\b\b\b\b\b\b\b\b\b\b\b\r15/15 [==============================] - 13s 867ms/step - loss: 1.0158 - accuracy: 0.6027 - val_loss: 1.0514 - val_accuracy: 0.6093\n",
            "Epoch 2/30\n",
            "15/15 [==============================] - 10s 665ms/step - loss: 0.9545 - accuracy: 0.6220\n",
            "Epoch 3/30\n",
            "15/15 [==============================] - 10s 656ms/step - loss: 0.9348 - accuracy: 0.6347\n",
            "Epoch 4/30\n",
            "15/15 [==============================] - 10s 675ms/step - loss: 0.9333 - accuracy: 0.6253\n",
            "Epoch 5/30\n",
            "15/15 [==============================] - 11s 721ms/step - loss: 0.9238 - accuracy: 0.6460\n",
            "Epoch 6/30\n",
            "15/15 [==============================] - 10s 644ms/step - loss: 0.8809 - accuracy: 0.6563\n",
            "Epoch 7/30\n",
            "15/15 [==============================] - 10s 666ms/step - loss: 0.8613 - accuracy: 0.6715\n",
            "Epoch 8/30\n",
            "15/15 [==============================] - 12s 739ms/step - loss: 0.8220 - accuracy: 0.6707\n",
            "Epoch 9/30\n",
            "15/15 [==============================] - 10s 657ms/step - loss: 0.8181 - accuracy: 0.6933\n",
            "Epoch 10/30\n",
            "15/15 [==============================] - 10s 664ms/step - loss: 0.8075 - accuracy: 0.6860\n",
            "Epoch 11/30\n",
            "15/15 [==============================] - 10s 628ms/step - loss: 0.7976 - accuracy: 0.6935\n",
            "Epoch 12/30\n",
            "15/15 [==============================] - 10s 640ms/step - loss: 0.7626 - accuracy: 0.7073\n",
            "Epoch 13/30\n",
            "15/15 [==============================] - 10s 641ms/step - loss: 0.7525 - accuracy: 0.7039\n",
            "Epoch 14/30\n",
            "15/15 [==============================] - 10s 650ms/step - loss: 0.7359 - accuracy: 0.7153\n",
            "Epoch 15/30\n",
            "15/15 [==============================] - 10s 659ms/step - loss: 0.7489 - accuracy: 0.7127\n",
            "Epoch 16/30\n",
            "15/15 [==============================] - 10s 633ms/step - loss: 0.7419 - accuracy: 0.7190\n",
            "Epoch 17/30\n",
            "15/15 [==============================] - 10s 648ms/step - loss: 0.7459 - accuracy: 0.7140\n",
            "Epoch 18/30\n",
            "15/15 [==============================] - 10s 631ms/step - loss: 0.7001 - accuracy: 0.7410\n",
            "Epoch 19/30\n",
            "15/15 [==============================] - 10s 632ms/step - loss: 0.6900 - accuracy: 0.7376\n",
            "Epoch 20/30\n",
            "15/15 [==============================] - 10s 659ms/step - loss: 0.6840 - accuracy: 0.7487\n",
            "Epoch 21/30\n",
            "15/15 [==============================] - 10s 668ms/step - loss: 0.6905 - accuracy: 0.7367\n",
            "Epoch 22/30\n",
            "15/15 [==============================] - 10s 635ms/step - loss: 0.6613 - accuracy: 0.7493\n",
            "Epoch 23/30\n",
            "15/15 [==============================] - 10s 659ms/step - loss: 0.6479 - accuracy: 0.7453\n",
            "Epoch 24/30\n",
            "15/15 [==============================] - 10s 621ms/step - loss: 0.6366 - accuracy: 0.7672\n",
            "Epoch 25/30\n",
            "15/15 [==============================] - 10s 644ms/step - loss: 0.6610 - accuracy: 0.7541\n",
            "Epoch 26/30\n",
            "15/15 [==============================] - 10s 656ms/step - loss: 0.6416 - accuracy: 0.7627\n",
            "Epoch 27/30\n",
            "15/15 [==============================] - 12s 772ms/step - loss: 0.5998 - accuracy: 0.7803\n",
            "Epoch 28/30\n",
            "15/15 [==============================] - 10s 658ms/step - loss: 0.5547 - accuracy: 0.7887\n",
            "Epoch 29/30\n",
            "15/15 [==============================] - 10s 679ms/step - loss: 0.5501 - accuracy: 0.7840\n",
            "Epoch 30/30\n",
            "15/15 [==============================] - 10s 672ms/step - loss: 0.5859 - accuracy: 0.7833\n"
          ]
        },
        {
          "output_type": "execute_result",
          "data": {
            "text/plain": [
              "<keras.callbacks.History at 0x7f99883c2c50>"
            ]
          },
          "metadata": {},
          "execution_count": 67
        }
      ],
      "source": [
        "model.fit_generator(gentrain,steps_per_epoch=15,epochs=30,validation_data=gentest,validation_steps=10)"
      ]
    },
    {
      "cell_type": "markdown",
      "source": [
        "Save the model"
      ],
      "metadata": {
        "id": "Uce2Jyn059Ka"
      }
    },
    {
      "cell_type": "code",
      "execution_count": 69,
      "metadata": {
        "id": "zmDImajkwN9z"
      },
      "outputs": [],
      "source": [
        "model.save(\"./flower.h5\")"
      ]
    },
    {
      "cell_type": "markdown",
      "source": [
        "Test the model"
      ],
      "metadata": {
        "id": "9Fg_tGKU6PeJ"
      }
    },
    {
      "cell_type": "code",
      "source": [
        "model.evaluate(genval)"
      ],
      "metadata": {
        "colab": {
          "base_uri": "https://localhost:8080/"
        },
        "id": "zyJ7zerm6D6h",
        "outputId": "bb7001d3-ab7b-43d8-ba6b-95e124520023"
      },
      "execution_count": 70,
      "outputs": [
        {
          "output_type": "stream",
          "name": "stdout",
          "text": [
            "5/5 [==============================] - 2s 279ms/step - loss: 0.9311 - accuracy: 0.6759\n"
          ]
        },
        {
          "output_type": "execute_result",
          "data": {
            "text/plain": [
              "[0.9310972094535828, 0.6758620738983154]"
            ]
          },
          "metadata": {},
          "execution_count": 70
        }
      ]
    }
  ],
  "metadata": {
    "colab": {
      "provenance": []
    },
    "kernelspec": {
      "display_name": "Python 3",
      "name": "python3"
    },
    "language_info": {
      "name": "python"
    }
  },
  "nbformat": 4,
  "nbformat_minor": 0
}