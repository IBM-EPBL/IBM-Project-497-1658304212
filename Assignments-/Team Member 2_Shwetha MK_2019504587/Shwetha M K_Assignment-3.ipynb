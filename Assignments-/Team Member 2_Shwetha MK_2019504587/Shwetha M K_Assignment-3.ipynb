{
 "cells": [
  {
   "cell_type": "markdown",
   "id": "1643c2b3",
   "metadata": {},
   "source": [
    "# Assignment 3"
   ]
  },
  {
   "cell_type": "code",
   "execution_count": 75,
   "id": "a53dab20",
   "metadata": {},
   "outputs": [],
   "source": [
    "import splitfolders\n",
    "import numpy as np\n",
    "import tensorflow as tf"
   ]
  },
  {
   "cell_type": "markdown",
   "id": "54cbe5fa",
   "metadata": {},
   "source": [
    "Spliting dataset into training data, validation data, testing data"
   ]
  },
  {
   "cell_type": "code",
   "execution_count": 76,
   "id": "4d6c3c64",
   "metadata": {},
   "outputs": [
    {
     "name": "stderr",
     "output_type": "stream",
     "text": [
      "Copying files: 4317 files [00:32, 131.77 files/s]\n"
     ]
    }
   ],
   "source": [
    "splitfolders.ratio(\"flowers\", output=\"output\",seed=1337, ratio=(.8, .1, .1), group_prefix=None)"
   ]
  },
  {
   "cell_type": "markdown",
   "id": "9f6ac138",
   "metadata": {},
   "source": [
    "Image Augmentation "
   ]
  },
  {
   "cell_type": "code",
   "execution_count": 77,
   "id": "afb64b95",
   "metadata": {},
   "outputs": [],
   "source": [
    "import keras\n",
    "from tensorflow.keras.preprocessing.image import ImageDataGenerator"
   ]
  },
  {
   "cell_type": "code",
   "execution_count": 78,
   "id": "c3859458",
   "metadata": {},
   "outputs": [],
   "source": [
    "train_datagen=ImageDataGenerator(rescale=1./255,zoom_range=0.2,horizontal_flip=True,vertical_flip=False)"
   ]
  },
  {
   "cell_type": "code",
   "execution_count": 79,
   "id": "00b923b0",
   "metadata": {},
   "outputs": [],
   "source": [
    "test_datagen=ImageDataGenerator(rescale=1./255)"
   ]
  },
  {
   "cell_type": "code",
   "execution_count": 80,
   "id": "fc72604d",
   "metadata": {
    "scrolled": true
   },
   "outputs": [
    {
     "name": "stdout",
     "output_type": "stream",
     "text": [
      "Found 3452 images belonging to 5 classes.\n"
     ]
    }
   ],
   "source": [
    "gentrain=train_datagen.flow_from_directory(r\"C:\\Users\\Hp\\IBM\\Assignment\\output\\train\",target_size=(64,64),class_mode=\"categorical\",batch_size=100)"
   ]
  },
  {
   "cell_type": "code",
   "execution_count": 81,
   "id": "f71fd10d",
   "metadata": {},
   "outputs": [
    {
     "name": "stdout",
     "output_type": "stream",
     "text": [
      "Found 430 images belonging to 5 classes.\n"
     ]
    }
   ],
   "source": [
    "gentest=test_datagen.flow_from_directory(r\"C:\\Users\\Hp\\IBM\\Assignment\\output\\val\",target_size=(64,64),class_mode=\"categorical\",batch_size=100)"
   ]
  },
  {
   "cell_type": "code",
   "execution_count": 82,
   "id": "24469ad3",
   "metadata": {},
   "outputs": [
    {
     "name": "stdout",
     "output_type": "stream",
     "text": [
      "Found 435 images belonging to 5 classes.\n"
     ]
    }
   ],
   "source": [
    "genval=test_datagen.flow_from_directory(r\"C:\\Users\\Hp\\IBM\\Assignment\\output\\test\",target_size=(64,64),class_mode=\"categorical\",batch_size=100)"
   ]
  },
  {
   "cell_type": "markdown",
   "id": "7a9059f8",
   "metadata": {},
   "source": [
    "Create model"
   ]
  },
  {
   "cell_type": "code",
   "execution_count": 83,
   "id": "b6d30a90",
   "metadata": {},
   "outputs": [],
   "source": [
    "from tensorflow.keras.models import Sequential  \n",
    "from tensorflow.keras.layers import Dense\n",
    "from tensorflow.keras.layers import Convolution2D\n",
    "from tensorflow.keras.layers import MaxPooling2D\n",
    "from tensorflow.keras.layers import Flatten"
   ]
  },
  {
   "cell_type": "code",
   "execution_count": 84,
   "id": "c738cda6",
   "metadata": {},
   "outputs": [],
   "source": [
    "model=Sequential()"
   ]
  },
  {
   "cell_type": "markdown",
   "id": "5758eb12",
   "metadata": {},
   "source": [
    "Adding layers"
   ]
  },
  {
   "cell_type": "code",
   "execution_count": 85,
   "id": "a9586b90",
   "metadata": {},
   "outputs": [],
   "source": [
    "model.add(Convolution2D(32,(3,3),activation=\"relu\",input_shape=(64,64,3)))\n",
    "model.add(MaxPooling2D(pool_size=(2,2)))\n",
    "model.add(Flatten())\n",
    "model.add(Dense(300,kernel_initializer=\"random_uniform\",activation=\"relu\"))\n",
    "model.add(Dense(5,kernel_initializer=\"random_uniform\",activation=\"softmax\"))"
   ]
  },
  {
   "cell_type": "markdown",
   "id": "49d80681",
   "metadata": {},
   "source": [
    "Compile model"
   ]
  },
  {
   "cell_type": "code",
   "execution_count": 86,
   "id": "3ac92c61",
   "metadata": {},
   "outputs": [],
   "source": [
    "model.compile(loss=\"categorical_crossentropy\",optimizer=\"adam\",metrics=[\"accuracy\"])"
   ]
  },
  {
   "cell_type": "markdown",
   "id": "4e0d2a62",
   "metadata": {},
   "source": [
    "Fit the model"
   ]
  },
  {
   "cell_type": "code",
   "execution_count": 97,
   "id": "2a8c363b",
   "metadata": {},
   "outputs": [
    {
     "name": "stderr",
     "output_type": "stream",
     "text": [
      "<ipython-input-97-b382e88260f9>:1: UserWarning: `Model.fit_generator` is deprecated and will be removed in a future version. Please use `Model.fit`, which supports generators.\n",
      "  model.fit_generator(gentrain,steps_per_epoch=10,epochs=15,validation_data=gentest,validation_steps=10)\n"
     ]
    },
    {
     "name": "stdout",
     "output_type": "stream",
     "text": [
      "Epoch 1/15\n",
      "10/10 [==============================] - ETA: 0s - loss: 0.9369 - accuracy: 0.6208WARNING:tensorflow:Your input ran out of data; interrupting training. Make sure that your dataset or generator can generate at least `steps_per_epoch * epochs` batches (in this case, 10 batches). You may need to use the repeat() function when building your dataset.\n",
      "10/10 [==============================] - 12s 1s/step - loss: 0.9369 - accuracy: 0.6208 - val_loss: 0.9930 - val_accuracy: 0.6279\n",
      "Epoch 2/15\n",
      "10/10 [==============================] - 11s 1s/step - loss: 0.9086 - accuracy: 0.6320\n",
      "Epoch 3/15\n",
      "10/10 [==============================] - 10s 980ms/step - loss: 0.9127 - accuracy: 0.6350\n",
      "Epoch 4/15\n",
      "10/10 [==============================] - 9s 838ms/step - loss: 0.9061 - accuracy: 0.6730\n",
      "Epoch 5/15\n",
      "10/10 [==============================] - 10s 963ms/step - loss: 0.8606 - accuracy: 0.6690\n",
      "Epoch 6/15\n",
      "10/10 [==============================] - 9s 919ms/step - loss: 0.8861 - accuracy: 0.6710\n",
      "Epoch 7/15\n",
      "10/10 [==============================] - 9s 893ms/step - loss: 0.8750 - accuracy: 0.6650\n",
      "Epoch 8/15\n",
      "10/10 [==============================] - 9s 875ms/step - loss: 0.8535 - accuracy: 0.6712\n",
      "Epoch 9/15\n",
      "10/10 [==============================] - 10s 957ms/step - loss: 0.9142 - accuracy: 0.6430\n",
      "Epoch 10/15\n",
      "10/10 [==============================] - 10s 942ms/step - loss: 0.8477 - accuracy: 0.6740\n",
      "Epoch 11/15\n",
      "10/10 [==============================] - 10s 945ms/step - loss: 0.8440 - accuracy: 0.6940\n",
      "Epoch 12/15\n",
      "10/10 [==============================] - 9s 904ms/step - loss: 0.8274 - accuracy: 0.6750\n",
      "Epoch 13/15\n",
      "10/10 [==============================] - 10s 950ms/step - loss: 0.8148 - accuracy: 0.6850\n",
      "Epoch 14/15\n",
      "10/10 [==============================] - 10s 1s/step - loss: 0.8149 - accuracy: 0.6940\n",
      "Epoch 15/15\n",
      "10/10 [==============================] - 10s 961ms/step - loss: 0.7808 - accuracy: 0.7060\n"
     ]
    },
    {
     "data": {
      "text/plain": [
       "<keras.callbacks.History at 0x195d34893d0>"
      ]
     },
     "execution_count": 97,
     "metadata": {},
     "output_type": "execute_result"
    }
   ],
   "source": [
    "model.fit_generator(gentrain,steps_per_epoch=10,epochs=15,validation_data=gentest,validation_steps=10)"
   ]
  },
  {
   "cell_type": "markdown",
   "id": "aafc5876",
   "metadata": {},
   "source": [
    "Save the model"
   ]
  },
  {
   "cell_type": "code",
   "execution_count": 88,
   "id": "798c95db",
   "metadata": {},
   "outputs": [],
   "source": [
    "model.save(\"./flowers.h5\")"
   ]
  },
  {
   "cell_type": "markdown",
   "id": "9cc8e878",
   "metadata": {},
   "source": [
    "Test the model"
   ]
  },
  {
   "cell_type": "code",
   "execution_count": 89,
   "id": "fa8d934c",
   "metadata": {},
   "outputs": [],
   "source": [
    "from tensorflow.keras.preprocessing import image\n",
    "from tensorflow.keras.models import load_model\n",
    "import numpy as np"
   ]
  },
  {
   "cell_type": "code",
   "execution_count": 90,
   "id": "95dd245d",
   "metadata": {},
   "outputs": [],
   "source": [
    "img = image.load_img(\"daisy.jfif\",target_size=(64,64))"
   ]
  },
  {
   "cell_type": "code",
   "execution_count": 91,
   "id": "f81f8bdc",
   "metadata": {},
   "outputs": [],
   "source": [
    "x=image.img_to_array(img)"
   ]
  },
  {
   "cell_type": "code",
   "execution_count": 92,
   "id": "efc032e8",
   "metadata": {},
   "outputs": [
    {
     "data": {
      "text/plain": [
       "(64, 64, 3)"
      ]
     },
     "execution_count": 92,
     "metadata": {},
     "output_type": "execute_result"
    }
   ],
   "source": [
    "x.shape"
   ]
  },
  {
   "cell_type": "code",
   "execution_count": 93,
   "id": "79ef9420",
   "metadata": {},
   "outputs": [
    {
     "data": {
      "text/plain": [
       "(1, 64, 64, 3)"
      ]
     },
     "execution_count": 93,
     "metadata": {},
     "output_type": "execute_result"
    }
   ],
   "source": [
    "x=np.expand_dims(x,axis=0)\n",
    "x.shape"
   ]
  },
  {
   "cell_type": "code",
   "execution_count": 94,
   "id": "2679efc3",
   "metadata": {},
   "outputs": [
    {
     "name": "stdout",
     "output_type": "stream",
     "text": [
      "1/1 [==============================] - 0s 248ms/step\n",
      "Daisy\n"
     ]
    }
   ],
   "source": [
    "prediction=model.predict(x)\n",
    "class_name=[\"Daisy\",\"Dandelion\",\"Rose\",\"Sunflower\",\"Tulip\"]\n",
    "pred=prediction.argmax(axis=1)[0]\n",
    "print(str(class_name[pred]))"
   ]
  },
  {
   "cell_type": "code",
   "execution_count": 95,
   "id": "5b93ed77",
   "metadata": {},
   "outputs": [
    {
     "name": "stdout",
     "output_type": "stream",
     "text": [
      "5/5 [==============================] - 8s 2s/step - loss: 1.0741 - accuracy: 0.5770\n"
     ]
    },
    {
     "data": {
      "text/plain": [
       "[1.0740673542022705, 0.5770114660263062]"
      ]
     },
     "execution_count": 95,
     "metadata": {},
     "output_type": "execute_result"
    }
   ],
   "source": [
    "model.evaluate(genval)"
   ]
  },
  {
   "cell_type": "code",
   "execution_count": null,
   "id": "18007426",
   "metadata": {},
   "outputs": [],
   "source": []
  },
  {
   "cell_type": "code",
   "execution_count": null,
   "id": "f619c3dd",
   "metadata": {},
   "outputs": [],
   "source": []
  }
 ],
 "metadata": {
  "kernelspec": {
   "display_name": "Python 3",
   "language": "python",
   "name": "python3"
  },
  "language_info": {
   "codemirror_mode": {
    "name": "ipython",
    "version": 3
   },
   "file_extension": ".py",
   "mimetype": "text/x-python",
   "name": "python",
   "nbconvert_exporter": "python",
   "pygments_lexer": "ipython3",
   "version": "3.8.8"
  }
 },
 "nbformat": 4,
 "nbformat_minor": 5
}
